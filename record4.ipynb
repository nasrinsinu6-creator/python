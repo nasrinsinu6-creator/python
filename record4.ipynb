{
 "cells": [
  {
   "cell_type": "code",
   "execution_count": 1,
   "id": "32eba32e-322b-4445-9f9c-72bbb0a7efd2",
   "metadata": {},
   "outputs": [
    {
     "name": "stdin",
     "output_type": "stream",
     "text": [
      "enter a string: python\n"
     ]
    },
    {
     "name": "stdout",
     "output_type": "stream",
     "text": [
      "new string is: nythop\n"
     ]
    }
   ],
   "source": [
    "#changing given string to a new string\n",
    "\n",
    "n=input(\"enter a string:\")\n",
    "f=n[-1]\n",
    "l=n[0]\n",
    "middle=n[1:-1]\n",
    "print(\"new string is:\",f + middle + l)"
   ]
  },
  {
   "cell_type": "code",
   "execution_count": 11,
   "id": "7803de0b-9877-4899-a958-4693bb9591de",
   "metadata": {},
   "outputs": [
    {
     "name": "stdin",
     "output_type": "stream",
     "text": [
      "enter a string pyhton\n"
     ]
    },
    {
     "name": "stdout",
     "output_type": "stream",
     "text": [
      "new string is: pyon\n"
     ]
    }
   ],
   "source": [
    "#get a string made of first2 and the last two\n",
    "\n",
    "n=input(\"enter a string\")\n",
    "n1=n[:2]\n",
    "n2=n[-2:]\n",
    "print(\"new string is:\",n1 + n2)"
   ]
  },
  {
   "cell_type": "code",
   "execution_count": 13,
   "id": "b3d65ab2-b209-4c6c-9c79-ba7ea58cf1f6",
   "metadata": {},
   "outputs": [
    {
     "name": "stdin",
     "output_type": "stream",
     "text": [
      "enter a stirng sinu\n",
      "enter second string nasr\n"
     ]
    },
    {
     "name": "stdout",
     "output_type": "stream",
     "text": [
      "new string: nanu sisr\n"
     ]
    }
   ],
   "source": [
    "#get a single string from 2 string and separated by space and swap the first two characters of each\n",
    "\n",
    "s1=input(\"enter a stirng\")\n",
    "s2=input(\"enter second string\")\n",
    "\n",
    "n2=s1[:2] + s2[2:]\n",
    "n1=s2[:2] + s1[2:]\n",
    "new_string= n1 + \" \" + n2\n",
    "print(\"new string:\",new_string)\n"
   ]
  },
  {
   "cell_type": "code",
   "execution_count": 2,
   "id": "75aa247a-4fca-49c7-9677-ca87cdca31c0",
   "metadata": {},
   "outputs": [
    {
     "name": "stdin",
     "output_type": "stream",
     "text": [
      "enter a string kozhikok\n"
     ]
    },
    {
     "name": "stdout",
     "output_type": "stream",
     "text": [
      "New String: kozhi$o$\n"
     ]
    }
   ],
   "source": [
    "#program to get a string from a given string where all occurence of its first cahracter has been changed to $\n",
    "\n",
    "n=input(\"enter a string\")\n",
    "n1=n[0]\n",
    "new_string=n1 + n[1:].replace(n1,\"$\")\n",
    "print(\"New String:\",new_string)"
   ]
  },
  {
   "cell_type": "code",
   "execution_count": null,
   "id": "bd70b4b2-8fca-4c38-976b-658cebf28150",
   "metadata": {},
   "outputs": [],
   "source": []
  }
 ],
 "metadata": {
  "kernelspec": {
   "display_name": "Python [conda env:base] *",
   "language": "python",
   "name": "conda-base-py"
  },
  "language_info": {
   "codemirror_mode": {
    "name": "ipython",
    "version": 3
   },
   "file_extension": ".py",
   "mimetype": "text/x-python",
   "name": "python",
   "nbconvert_exporter": "python",
   "pygments_lexer": "ipython3",
   "version": "3.11.7"
  }
 },
 "nbformat": 4,
 "nbformat_minor": 5
}
