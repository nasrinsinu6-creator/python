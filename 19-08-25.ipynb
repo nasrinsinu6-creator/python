{
 "cells": [
  {
   "cell_type": "code",
   "execution_count": 1,
   "id": "6805ddc7-235e-4352-9bb5-a7ed249f5abb",
   "metadata": {},
   "outputs": [
    {
     "name": "stdin",
     "output_type": "stream",
     "text": [
      "length of side: 3\n"
     ]
    },
    {
     "name": "stdout",
     "output_type": "stream",
     "text": [
      "area is 9.0\n"
     ]
    }
   ],
   "source": [
    "side=float(input(\"length of side:\"))\n",
    "area=side*side\n",
    "print(\"area is\",area)"
   ]
  },
  {
   "cell_type": "code",
   "execution_count": 2,
   "id": "e81ce29a-e115-4919-899c-0e76744aeb5a",
   "metadata": {},
   "outputs": [
    {
     "name": "stdin",
     "output_type": "stream",
     "text": [
      "base of traingle 2\n",
      "height of traingle 3\n"
     ]
    },
    {
     "name": "stdout",
     "output_type": "stream",
     "text": [
      "area = 3.0\n"
     ]
    }
   ],
   "source": [
    "base=float(input(\"base of traingle\"))\n",
    "height=float(input(\"height of traingle\"))\n",
    "area=0.5*base*height\n",
    "print(\"area =\",area)\n"
   ]
  },
  {
   "cell_type": "code",
   "execution_count": 3,
   "id": "b825043a-f6e7-4a12-8894-8f1c12428a8c",
   "metadata": {},
   "outputs": [
    {
     "name": "stdin",
     "output_type": "stream",
     "text": [
      "enter your name: Sinu\n"
     ]
    },
    {
     "name": "stdout",
     "output_type": "stream",
     "text": [
      "Hello,Sinu!\n"
     ]
    }
   ],
   "source": [
    "name=input(\"enter your name:\")\n",
    "print(\"Hello,\"+name+\"!\")"
   ]
  },
  {
   "cell_type": "code",
   "execution_count": 4,
   "id": "41864826-a0b9-4009-a4d4-55d4b93b90c0",
   "metadata": {},
   "outputs": [
    {
     "name": "stdin",
     "output_type": "stream",
     "text": [
      "enter a number: 3\n"
     ]
    },
    {
     "name": "stdout",
     "output_type": "stream",
     "text": [
      "previous: 2\n",
      "next: 4\n"
     ]
    }
   ],
   "source": [
    "num=int(input(\"enter a number:\"))\n",
    "prev=num-1\n",
    "next=num+1\n",
    "print(\"previous:\",prev)\n",
    "print(\"next:\",next)"
   ]
  },
  {
   "cell_type": "code",
   "execution_count": 6,
   "id": "648ab834-71c0-4a4a-986b-f9855681af83",
   "metadata": {},
   "outputs": [
    {
     "name": "stdin",
     "output_type": "stream",
     "text": [
      "enter principle amount: 3000\n",
      "enter rate in percentage: 5\n",
      "enter  year 2024\n"
     ]
    },
    {
     "name": "stdout",
     "output_type": "stream",
     "text": [
      "simple intrest: 303600.0\n"
     ]
    }
   ],
   "source": [
    "p=float(input(\"enter principle amount:\"))\n",
    "rate=float(input(\"enter rate in percentage:\"))\n",
    "time=float(input(\"enter  year\"))\n",
    "simpleintrest=(p*rate*time)/100\n",
    "print(\"simple intrest:\",simpleintrest)"
   ]
  },
  {
   "cell_type": "code",
   "execution_count": null,
   "id": "39872454-8df8-4c87-a69a-ad3b62316bae",
   "metadata": {},
   "outputs": [],
   "source": []
  }
 ],
 "metadata": {
  "kernelspec": {
   "display_name": "Python [conda env:base] *",
   "language": "python",
   "name": "conda-base-py"
  },
  "language_info": {
   "codemirror_mode": {
    "name": "ipython",
    "version": 3
   },
   "file_extension": ".py",
   "mimetype": "text/x-python",
   "name": "python",
   "nbconvert_exporter": "python",
   "pygments_lexer": "ipython3",
   "version": "3.11.7"
  }
 },
 "nbformat": 4,
 "nbformat_minor": 5
}
