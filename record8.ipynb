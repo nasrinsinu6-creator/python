{
 "cells": [
  {
   "cell_type": "code",
   "execution_count": 17,
   "id": "f05ad6d9-1fc5-4299-9467-5d2c86b7b75e",
   "metadata": {},
   "outputs": [
    {
     "name": "stdin",
     "output_type": "stream",
     "text": [
      "enter any(set1) colors:  red green yellow\n"
     ]
    },
    {
     "name": "stdout",
     "output_type": "stream",
     "text": [
      "Set1 = {'yellow', 'green', 'red'}\n"
     ]
    },
    {
     "name": "stdin",
     "output_type": "stream",
     "text": [
      "enter any(set2) colors:  blue orange yellow\n"
     ]
    },
    {
     "name": "stdout",
     "output_type": "stream",
     "text": [
      "Set2 = {'blue', 'orange', 'yellow'}\n",
      "difference between set1 and set2 colors are: {'green', 'red'}\n"
     ]
    }
   ],
   "source": [
    "#color in set1 and bot in set2\n",
    "set1=set(input(\"enter any(set1) colors: \").split())\n",
    "print(\"Set1 =\",set1)\n",
    "set2=set(input(\"enter any(set2) colors: \").split())\n",
    "print(\"Set2 =\",set2)\n",
    "difference_set=set1 - set2\n",
    "print(\"difference between set1 and set2 colors are:\",difference_set)"
   ]
  },
  {
   "cell_type": "code",
   "execution_count": 18,
   "id": "411159a5-7011-4484-9aac-85590cba0edb",
   "metadata": {},
   "outputs": [
    {
     "name": "stdin",
     "output_type": "stream",
     "text": [
      "enter any(set_1) colors:  yellow orange blue black\n"
     ]
    },
    {
     "name": "stdout",
     "output_type": "stream",
     "text": [
      "Set1 = {'black', 'blue', 'orange', 'yellow'}\n"
     ]
    },
    {
     "name": "stdin",
     "output_type": "stream",
     "text": [
      "enter any(set_2) colors:  red green brown\n"
     ]
    },
    {
     "name": "stdout",
     "output_type": "stream",
     "text": [
      "Set1 = {'brown', 'green', 'red'}\n",
      "colors in both set1 and set2 are {'blue', 'yellow', 'brown', 'red', 'black', 'orange', 'green'}\n"
     ]
    }
   ],
   "source": [
    "#colors in both set 1 and set2\n",
    "\n",
    "set_1=set(input(\"enter any(set_1) colors: \").split())\n",
    "print(\"Set1 =\",set_1)\n",
    "set_2=set(input(\"enter any(set_2) colors: \").split())\n",
    "print(\"Set1 =\",set_2)\n",
    "intersection_set=set_1 | set_2\n",
    "print(\"colors in both set1 and set2 are\",intersection_set)"
   ]
  },
  {
   "cell_type": "code",
   "execution_count": null,
   "id": "7963b59b-1abd-4c20-923d-e7eb5ed8fae4",
   "metadata": {},
   "outputs": [],
   "source": []
  }
 ],
 "metadata": {
  "kernelspec": {
   "display_name": "Python [conda env:base] *",
   "language": "python",
   "name": "conda-base-py"
  },
  "language_info": {
   "codemirror_mode": {
    "name": "ipython",
    "version": 3
   },
   "file_extension": ".py",
   "mimetype": "text/x-python",
   "name": "python",
   "nbconvert_exporter": "python",
   "pygments_lexer": "ipython3",
   "version": "3.11.7"
  }
 },
 "nbformat": 4,
 "nbformat_minor": 5
}
