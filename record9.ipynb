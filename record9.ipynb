{
 "cells": [
  {
   "cell_type": "code",
   "execution_count": 1,
   "id": "864248a3-c40e-4b6c-95f6-fc845a2a8c1f",
   "metadata": {},
   "outputs": [
    {
     "name": "stdin",
     "output_type": "stream",
     "text": [
      "enter rollnumber  of  5 students separated with commas:  4,7,3,1,9\n",
      "enter name of  5 student separated with commas:  sinu,anu,manu,jinu,finu\n"
     ]
    },
    {
     "name": "stdout",
     "output_type": "stream",
     "text": [
      "students with roll number: {4: 'sinu', 7: 'anu', 3: 'manu', 1: 'jinu', 9: 'finu'}\n",
      "Ascending oreder of students in base of roll number is: {1: 'jinu', 3: 'manu', 4: 'sinu', 7: 'anu', 9: 'finu'}\n",
      "Descending order in base of roll number is: {9: 'finu', 7: 'anu', 4: 'sinu', 3: 'manu', 1: 'jinu'}\n"
     ]
    }
   ],
   "source": [
    "#program accept 5 students names and roll number arrange in ascending and descendind order\n",
    "\n",
    "roll =input(\"enter rollnumber  of  5 students separated with commas: \").split(\",\")\n",
    "rolls=list(map(int,roll))\n",
    "name=input(\"enter name of  5 student separated with commas: \"   ).split(\",\")\n",
    "students=dict(zip(rolls,name))\n",
    "print(\"students with roll number:\",students ) \n",
    "asc_order=dict(sorted(students.items()))\n",
    "print(\"Ascending oreder of students in base of roll number is:\",asc_order)\n",
    "desc_order=dict(sorted(students.items(), reverse=True))\n",
    "print(\"Descending order in base of roll number is:\",desc_order)"
   ]
  },
  {
   "cell_type": "code",
   "execution_count": 2,
   "id": "636f52f2-1eff-49e5-b5be-05d785f68eff",
   "metadata": {},
   "outputs": [
    {
     "name": "stdin",
     "output_type": "stream",
     "text": [
      "enter rollnumber 3 of student separated with commas:  1,8,5\n",
      "enter name of  3 student separated with commas:  diya,soha,veena\n"
     ]
    },
    {
     "name": "stdout",
     "output_type": "stream",
     "text": [
      "students with roll number: {1: 'diya', 8: 'soha', 5: 'veena'}\n"
     ]
    },
    {
     "name": "stdin",
     "output_type": "stream",
     "text": [
      "enter rollnumber 2 of student separated with commas:  7,4\n",
      "enter name of  2 student separated with commas:  malu,janu\n"
     ]
    },
    {
     "name": "stdout",
     "output_type": "stream",
     "text": [
      "students with roll number: {7: 'malu', 4: 'janu'}\n",
      "Merged dictionary:: {1: 'diya', 8: 'soha', 5: 'veena', 7: 'malu', 4: 'janu'}\n"
     ]
    }
   ],
   "source": [
    "#program to accept dictonaries and merge \n",
    "roll =input(\"enter rollnumber 3 of student separated with commas: \").split(\",\")\n",
    "rolls=list(map(int,roll))\n",
    "name=input(\"enter name of  3 student separated with commas: \"   ).split(\",\")\n",
    "students=dict(zip(rolls,name))\n",
    "print(\"students with roll number:\",students ) \n",
    "\n",
    "roll1 =input(\"enter rollnumber 2 of student separated with commas: \").split(\",\")\n",
    "rolls1=list(map(int,roll1))\n",
    "name=input(\"enter name of  2 student separated with commas: \"   ).split(\",\")\n",
    "students1=dict(zip(rolls1,name))\n",
    "print(\"students with roll number:\",students1 ) \n",
    "\n",
    "students.update(students1)\n",
    "print(\"Merged dictionary::\",students)"
   ]
  },
  {
   "cell_type": "code",
   "execution_count": null,
   "id": "fa15edd9-e4c3-4961-ba29-245338b174eb",
   "metadata": {},
   "outputs": [],
   "source": []
  }
 ],
 "metadata": {
  "kernelspec": {
   "display_name": "Python [conda env:base] *",
   "language": "python",
   "name": "conda-base-py"
  },
  "language_info": {
   "codemirror_mode": {
    "name": "ipython",
    "version": 3
   },
   "file_extension": ".py",
   "mimetype": "text/x-python",
   "name": "python",
   "nbconvert_exporter": "python",
   "pygments_lexer": "ipython3",
   "version": "3.11.7"
  }
 },
 "nbformat": 4,
 "nbformat_minor": 5
}
