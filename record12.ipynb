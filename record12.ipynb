{
 "cells": [
  {
   "cell_type": "code",
   "execution_count": 11,
   "id": "46270890-8b7b-4a1c-ba97-55348b490f75",
   "metadata": {},
   "outputs": [
    {
     "name": "stdin",
     "output_type": "stream",
     "text": [
      "Enter list of integers separated by commas :  5,-8,9,3,0\n"
     ]
    },
    {
     "name": "stdout",
     "output_type": "stream",
     "text": [
      "Positive list of numbers : [5, 9, 3]\n",
      " \n",
      "Square of  numbers : [25, 64, 81, 9, 0]\n",
      " \n"
     ]
    },
    {
     "name": "stdin",
     "output_type": "stream",
     "text": [
      "Enter any word : elephant\n"
     ]
    },
    {
     "name": "stdout",
     "output_type": "stream",
     "text": [
      "Vowels in the word is  ['e', 'e', 'a']\n",
      " \n",
      "Ordinal of each element in the word is [101, 108, 101, 112, 104, 97, 110, 116]\n"
     ]
    }
   ],
   "source": [
    "\"\"\"\t\n",
    "1. List comprehensions: \n",
    "                          (a) Generate positive list of numbers from a given list of integers \n",
    "                          (b) Square of N numbers \n",
    "                          (c) Form a list of vowels selected from a given word \n",
    "                          (d) List ordinal value of each element of a word (Hint: use ord() to get ordinal values)\"\"\"\n",
    " #a\n",
    "num=input(\"Enter list of integers separated by commas : \").split(\",\")\n",
    "num_1=list(map(int,num))\n",
    "positive_num=[x for x in num_1 if x>0]\n",
    "print(\"Positive list of numbers :\",positive_num)\n",
    "print(\" \")\n",
    "\n",
    "#b\n",
    "square=[x**2 for x in num_1]\n",
    "print(\"Square of  numbers :\",square)\n",
    "print(\" \")\n",
    "\n",
    "#c\n",
    "word=input(\"Enter any word :\")\n",
    "vowels=[w.lower() for w in word if w in 'aeiou']\n",
    "print(\"Vowels in the word is \",vowels)\n",
    "print(\" \")\n",
    "\n",
    "#d\n",
    "ordinal_value=[ord(w) for w in word]\n",
    "print(\"Ordinal of each element in the word is\",ordinal_value)"
   ]
  },
  {
   "cell_type": "code",
   "execution_count": null,
   "id": "aadcfd3f-bc65-455c-8324-71dba9403e4c",
   "metadata": {},
   "outputs": [],
   "source": []
  },
  {
   "cell_type": "code",
   "execution_count": null,
   "id": "a45b8430-d615-4f62-b859-f9c3d418ccbd",
   "metadata": {},
   "outputs": [],
   "source": []
  },
  {
   "cell_type": "code",
   "execution_count": null,
   "id": "60da2d7e-bcdb-435d-bbfc-4c120b4a4971",
   "metadata": {},
   "outputs": [],
   "source": []
  }
 ],
 "metadata": {
  "kernelspec": {
   "display_name": "Python [conda env:base] *",
   "language": "python",
   "name": "conda-base-py"
  },
  "language_info": {
   "codemirror_mode": {
    "name": "ipython",
    "version": 3
   },
   "file_extension": ".py",
   "mimetype": "text/x-python",
   "name": "python",
   "nbconvert_exporter": "python",
   "pygments_lexer": "ipython3",
   "version": "3.11.7"
  }
 },
 "nbformat": 4,
 "nbformat_minor": 5
}
