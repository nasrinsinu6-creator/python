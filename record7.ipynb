{
 "cells": [
  {
   "cell_type": "code",
   "execution_count": 1,
   "id": "fcb21379-c510-4c06-ae05-d29754e8a0fd",
   "metadata": {},
   "outputs": [
    {
     "name": "stdout",
     "output_type": "stream",
     "text": [
      "list is: [2, 4, 6, 8, 10, 12, 14, 16, 18, 20, 22, 24]\n",
      "sum is: 156\n"
     ]
    }
   ],
   "source": [
    "#even numbers and \n",
    "r1=range(2,25,2)\n",
    "print(\"list is:\",list(r1))\n",
    "total=sum(list(r1))\n",
    "print(\"sum is:\",total)"
   ]
  },
  {
   "cell_type": "code",
   "execution_count": 1,
   "id": "3bd646a8-f21d-49d8-bcea-75ab4765a2eb",
   "metadata": {},
   "outputs": [
    {
     "name": "stdin",
     "output_type": "stream",
     "text": [
      "enter start 1\n",
      "enter ending 20\n"
     ]
    },
    {
     "name": "stdout",
     "output_type": "stream",
     "text": [
      "Reverse oreder is: [20, 19, 18, 17, 16, 15, 14, 13, 12, 11, 10, 9, 8, 7, 6, 5, 4, 3, 2, 1]\n",
      "Revesre sum is: 210\n"
     ]
    }
   ],
   "source": [
    "#print in reverse and calculate sum\n",
    "num=int(input(\"enter start\"))\n",
    "num1=int(input(\"enter ending\"))\n",
    "r=range(num1,num-1,-1)\n",
    "print(\"Reverse oreder is:\",list(r))\n",
    "sum=sum(list(r))\n",
    "print(\"Revesre sum is:\",sum)"
   ]
  },
  {
   "cell_type": "code",
   "execution_count": null,
   "id": "c3018ee4-e232-4a20-b22c-ef469715d478",
   "metadata": {},
   "outputs": [],
   "source": []
  }
 ],
 "metadata": {
  "kernelspec": {
   "display_name": "Python [conda env:base] *",
   "language": "python",
   "name": "conda-base-py"
  },
  "language_info": {
   "codemirror_mode": {
    "name": "ipython",
    "version": 3
   },
   "file_extension": ".py",
   "mimetype": "text/x-python",
   "name": "python",
   "nbconvert_exporter": "python",
   "pygments_lexer": "ipython3",
   "version": "3.11.7"
  }
 },
 "nbformat": 4,
 "nbformat_minor": 5
}
