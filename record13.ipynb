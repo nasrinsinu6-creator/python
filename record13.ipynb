{
 "cells": [
  {
   "cell_type": "code",
   "execution_count": 1,
   "id": "89dfda83-b08d-4f11-85be-e9cc23f651ae",
   "metadata": {},
   "outputs": [
    {
     "name": "stdin",
     "output_type": "stream",
     "text": [
      "Enter list of words separated by commas:  punnya,moh,veena\n"
     ]
    },
    {
     "name": "stdout",
     "output_type": "stream",
     "text": [
      "Length of largest is: 6\n"
     ]
    }
   ],
   "source": [
    "#Accept a list of words and return length of longest word.\n",
    "words = input(\"Enter list of words separated by commas: \").split(\",\")\n",
    "\n",
    "def length(words):\n",
    "    return max(len(w) for w in words)\n",
    "\n",
    "length_1 = length(words)\n",
    "print(\"Length of largest is:\", length_1)\n"
   ]
  },
  {
   "cell_type": "code",
   "execution_count": 12,
   "id": "7226e5e8-2236-4041-b884-031f60a39b4d",
   "metadata": {},
   "outputs": [
    {
     "name": "stdin",
     "output_type": "stream",
     "text": [
      "number of stra in the longest row: 5\n"
     ]
    },
    {
     "name": "stdout",
     "output_type": "stream",
     "text": [
      "* \n",
      "* * \n",
      "* * * \n",
      "* * * * \n",
      "* * * * * \n",
      "* * * * \n",
      "* * * \n",
      "* * \n",
      "* \n"
     ]
    }
   ],
   "source": [
    "'''\n",
    ". Construct following pattern using nested loop \n",
    "                * \n",
    "                *  * \n",
    "                *  *  * \n",
    "                *  *  *  * \n",
    "                *  *  *  *  * \n",
    "                *  *  *  * \n",
    "                *  *  * \n",
    "                *  * \n",
    "                *'''\n",
    "n=int(input(\"number of stra in the longest row:\"))\n",
    "def star(n):\n",
    "    for i in range(1,n+1):\n",
    "        for j in range(i):\n",
    "            print(\"*\",end=\" \")\n",
    "        print()\n",
    "    for i in range(n-1,0,-1):\n",
    "        for j in range(i):\n",
    "            print(\"*\",end=\" \")\n",
    "        print()\n",
    "star(n)        "
   ]
  },
  {
   "cell_type": "code",
   "execution_count": 10,
   "id": "6b7f06af-798f-44cd-86a2-dd780a250e64",
   "metadata": {},
   "outputs": [
    {
     "name": "stdin",
     "output_type": "stream",
     "text": [
      "Enter any number: 4\n"
     ]
    },
    {
     "name": "stdout",
     "output_type": "stream",
     "text": [
      "Factor of  4 are [1, 2, 4]\n"
     ]
    }
   ],
   "source": [
    "#Generate all factors of a number. \n",
    "num=int(input(\"Enter any number:\"))\n",
    "def factor(num):\n",
    "    return [i for i in range(1,num+1) if num%i == 0]\n",
    "print(\"Factor of \",num,\"are\",factor(num))    \n",
    "        "
   ]
  },
  {
   "cell_type": "code",
   "execution_count": 11,
   "id": "e0979064-6964-45eb-b609-52dbf1f9e6e3",
   "metadata": {},
   "outputs": [
    {
     "name": "stdin",
     "output_type": "stream",
     "text": [
      "Enter the side if the square: 2\n"
     ]
    },
    {
     "name": "stdout",
     "output_type": "stream",
     "text": [
      "Area of the square is: 4.0\n"
     ]
    },
    {
     "name": "stdin",
     "output_type": "stream",
     "text": [
      "Enter the length if the rectangle: 2\n",
      "Enter the width if the rectangle: 6\n"
     ]
    },
    {
     "name": "stdout",
     "output_type": "stream",
     "text": [
      "Area of the rectangle is: 12.0\n"
     ]
    },
    {
     "name": "stdin",
     "output_type": "stream",
     "text": [
      "Enter the base of the triangle: 3\n",
      "Enter the height of the triangle: 4\n"
     ]
    },
    {
     "name": "stdout",
     "output_type": "stream",
     "text": [
      "Area of the triangle is: 6.0\n"
     ]
    }
   ],
   "source": [
    "#Write lambda functions to find area of square, rectangle and triangle.\n",
    "\n",
    "square=lambda s:s*s\n",
    "rectangle=lambda l,w:l*w\n",
    "triangle=lambda b,h:0.5*b*h\n",
    "\n",
    "s=float(input(\"Enter the side if the square:\"))\n",
    "print(\"Area of the square is:\",square(s))\n",
    "\n",
    "l=float(input(\"Enter the length if the rectangle:\"))\n",
    "w=float(input(\"Enter the width if the rectangle:\"))\n",
    "print(\"Area of the rectangle is:\",rectangle(l,w))\n",
    "\n",
    "b=float(input(\"Enter the base of the triangle:\"))\n",
    "h=float(input(\"Enter the height of the triangle:\"))\n",
    "print(\"Area of the triangle is:\",triangle(l,w))\n"
   ]
  },
  {
   "cell_type": "code",
   "execution_count": null,
   "id": "eda4108e-ac4a-48d8-9301-c1f50cab7717",
   "metadata": {},
   "outputs": [],
   "source": []
  }
 ],
 "metadata": {
  "kernelspec": {
   "display_name": "Python [conda env:base] *",
   "language": "python",
   "name": "conda-base-py"
  },
  "language_info": {
   "codemirror_mode": {
    "name": "ipython",
    "version": 3
   },
   "file_extension": ".py",
   "mimetype": "text/x-python",
   "name": "python",
   "nbconvert_exporter": "python",
   "pygments_lexer": "ipython3",
   "version": "3.11.7"
  }
 },
 "nbformat": 4,
 "nbformat_minor": 5
}
