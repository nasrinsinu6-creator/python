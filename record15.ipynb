{
 "cells": [
  {
   "cell_type": "code",
   "execution_count": 7,
   "id": "3d7f70ef-372d-494a-ac37-aa7e5f7a07a1",
   "metadata": {},
   "outputs": [
    {
     "name": "stdin",
     "output_type": "stream",
     "text": [
      "enter the length of first rectangle 2\n",
      "enter the breadth of first rectangle 3\n",
      "enter the length of second rectangle 4\n",
      "enter the bredth of second rectangle 3\n"
     ]
    },
    {
     "name": "stdout",
     "output_type": "stream",
     "text": [
      "Area of Rectangle 1: 6\n",
      "Area of Rectangle 2: 12\n",
      "Peirmeter of Rectangle 1: 10\n",
      "Peirmeter of Rectangle 2: 14\n",
      "Second rectangle is greater\n"
     ]
    }
   ],
   "source": [
    "#object class program\n",
    "class rectangle:\n",
    "    def set(self,l,b):\n",
    "        self.l=l\n",
    "        self.b=b\n",
    "    def area(self,l,b):\n",
    "        return l*b\n",
    "\n",
    "    def peri(self,l,b):\n",
    "        return 2*(l+b)\n",
    "\n",
    "        \n",
    "\n",
    "r1=rectangle()\n",
    "r2=rectangle()\n",
    "l1=int(input(\"enter the length of first rectangle\"))\n",
    "b1=int(input(\"enter the breadth of first rectangle\"))\n",
    "l2=int(input(\"enter the length of second rectangle\"))\n",
    "b2=int(input(\"enter the bredth of second rectangle\"))\n",
    "ar1=r1.area(l1,b1)\n",
    "ar2=r2.area(l2,b2)\n",
    "print(\"Area of Rectangle 1:\",ar1)\n",
    "print(\"Area of Rectangle 2:\",ar2)\n",
    "\n",
    "pr1=r1.peri(l1,b1)\n",
    "pr2=r2.peri(l2,b2)\n",
    "print(\"Peirmeter of Rectangle 1:\",pr1)\n",
    "print(\"Peirmeter of Rectangle 2:\",pr2)\n",
    "\n",
    "if ar1<ar2:\n",
    "    print(\"Second rectangle is greater\")\n",
    "elif ar2<ar1:\n",
    "    print(\"First rectangle is greater\")\n",
    "else:\n",
    "    print(\"Same \")"
   ]
  },
  {
   "cell_type": "code",
   "execution_count": null,
   "id": "9e9c653b-dd98-44bb-abae-80ece1d151f3",
   "metadata": {},
   "outputs": [],
   "source": []
  }
 ],
 "metadata": {
  "kernelspec": {
   "display_name": "Python [conda env:base] *",
   "language": "python",
   "name": "conda-base-py"
  },
  "language_info": {
   "codemirror_mode": {
    "name": "ipython",
    "version": 3
   },
   "file_extension": ".py",
   "mimetype": "text/x-python",
   "name": "python",
   "nbconvert_exporter": "python",
   "pygments_lexer": "ipython3",
   "version": "3.11.7"
  }
 },
 "nbformat": 4,
 "nbformat_minor": 5
}
