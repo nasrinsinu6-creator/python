{
 "cells": [
  {
   "cell_type": "code",
   "execution_count": 2,
   "id": "20863fc2-b9bf-461a-89fd-78200a5f2218",
   "metadata": {},
   "outputs": [
    {
     "name": "stdin",
     "output_type": "stream",
     "text": [
      "enter 1st number 4\n",
      "enter 2nd number 1\n",
      "enter 3rd number 7\n"
     ]
    },
    {
     "name": "stdout",
     "output_type": "stream",
     "text": [
      "Biggest: 7.0\n"
     ]
    }
   ],
   "source": [
    "#biggest of 3 numbers\n",
    "\n",
    "n1=float(input(\"enter 1st number\"))\n",
    "n2=float(input(\"enter 2nd number\"))\n",
    "n3=float(input(\"enter 3rd number\"))\n",
    "\n",
    "biggest=max(n1,n2,n3)\n",
    "print(\"Biggest:\",biggest)"
   ]
  },
  {
   "cell_type": "code",
   "execution_count": null,
   "id": "18142028-a11f-4c55-b506-2e9f3049b035",
   "metadata": {},
   "outputs": [],
   "source": []
  }
 ],
 "metadata": {
  "kernelspec": {
   "display_name": "Python [conda env:base] *",
   "language": "python",
   "name": "conda-base-py"
  },
  "language_info": {
   "codemirror_mode": {
    "name": "ipython",
    "version": 3
   },
   "file_extension": ".py",
   "mimetype": "text/x-python",
   "name": "python",
   "nbconvert_exporter": "python",
   "pygments_lexer": "ipython3",
   "version": "3.11.7"
  }
 },
 "nbformat": 4,
 "nbformat_minor": 5
}
