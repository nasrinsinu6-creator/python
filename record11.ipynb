{
 "cells": [
  {
   "cell_type": "code",
   "execution_count": 8,
   "id": "05e70194-3be3-4758-8a14-d36a2751e5e3",
   "metadata": {},
   "outputs": [
    {
     "name": "stdin",
     "output_type": "stream",
     "text": [
      "enter line of text My name is sinu and my father Is \n"
     ]
    },
    {
     "name": "stdout",
     "output_type": "stream",
     "text": [
      "occurence of is : 2\n",
      "occurence of my : 2\n",
      "occurence of and : 1\n",
      "occurence of name : 1\n",
      "occurence of sinu : 1\n",
      "occurence of father : 1\n"
     ]
    }
   ],
   "source": [
    "# 1Count the occurrences of each word in a line of text.\n",
    "words=input(\"enter line of text\").lower().split()\n",
    "words_1=set(words)\n",
    "for word in words_1:\n",
    "    words_1\n",
    "    count=words.count(word)\n",
    "    print(\"occurence of\",word,\":\",count)\n",
    "\n",
    "\n",
    "    "
   ]
  },
  {
   "cell_type": "code",
   "execution_count": 8,
   "id": "bb7f7b15-41b2-4e30-ab9f-e1ac48558ae4",
   "metadata": {},
   "outputs": [
    {
     "name": "stdin",
     "output_type": "stream",
     "text": [
      "enter list of integers:  30,60,101,700,80,200\n"
     ]
    },
    {
     "name": "stdout",
     "output_type": "stream",
     "text": [
      "Result is :  [30, 60, 'over', 'over', 80, 'over']\n"
     ]
    }
   ],
   "source": [
    "#2Prompt the user for a list of integers. For all values greater than 100, store ‘over’ instead.\n",
    "num=input(\"enter list of integers: \").split(\",\")\n",
    "num_1=[]\n",
    "for n in num:\n",
    "    n=int(n)\n",
    "    if n > 100:\n",
    "        num_1.append(\"over\")\n",
    "    else:\n",
    "        num_1.append(n)\n",
    "print(\"Result is : \",num_1)        "
   ]
  },
  {
   "cell_type": "code",
   "execution_count": 9,
   "id": "04beedc0-f493-46e1-97ae-9099ff308b6e",
   "metadata": {},
   "outputs": [
    {
     "name": "stdin",
     "output_type": "stream",
     "text": [
      "enter firts names separated by commas:  Manu,vinu,Anu\n"
     ]
    },
    {
     "name": "stdout",
     "output_type": "stream",
     "text": [
      "Total {a} occurence in the list of names is :  2\n"
     ]
    }
   ],
   "source": [
    "# 3Store a list of first names. Count the occurrences of ‘a’ within the list\n",
    "names=input(\"enter firts names separated by commas: \").split(\",\")\n",
    "count = 0\n",
    "for name in names:\n",
    "    name_l=name.lower()\n",
    "    \n",
    "    count=count+name_l.count(\"a\")\n",
    "print(\"Total {a} occurence in the list of names is : \",count)    "
   ]
  },
  {
   "cell_type": "code",
   "execution_count": 11,
   "id": "88de5b99-18d2-4181-9d4f-2ffb7e40dd00",
   "metadata": {},
   "outputs": [
    {
     "name": "stdin",
     "output_type": "stream",
     "text": [
      "enter first number 4\n",
      "enter second number 2\n"
     ]
    },
    {
     "name": "stdout",
     "output_type": "stream",
     "text": [
      "GCD is: 2\n"
     ]
    }
   ],
   "source": [
    "# 4Find gcd of 2 numbers.\n",
    "\n",
    "a=int(input(\"enter first number\"))\n",
    "b=int(input(\"enter second number\"))\n",
    "while b!=0:\n",
    "    a,b=b,a%b\n",
    "\n",
    "print(\"GCD is:\",a)   "
   ]
  },
  {
   "cell_type": "code",
   "execution_count": 19,
   "id": "aed85512-c98f-4650-a381-0b168d4de4ad",
   "metadata": {},
   "outputs": [
    {
     "name": "stdin",
     "output_type": "stream",
     "text": [
      "enter list of numbers separated by commas 1,2,3,4,5,6,7,8,9,10\n"
     ]
    },
    {
     "name": "stdout",
     "output_type": "stream",
     "text": [
      "The original list is: [1, 2, 3, 4, 5, 6, 7, 8, 9, 10]\n",
      "The list without even num: [1, 3, 5, 7, 9]\n"
     ]
    }
   ],
   "source": [
    "#5From a list of integers, create a list removing even numbers.\n",
    "num=input(\"enter list of numbers separated by commas\").split(\",\")\n",
    "num_1=list(map(int,num))\n",
    "odd_num=[]\n",
    "for n in num_1:\n",
    "    if n % 2 != 0:\n",
    "        odd_num.append(n)\n",
    "print(\"The original list is:\",num_1)\n",
    "print(\"The list without even num:\",odd_num)\n"
   ]
  },
  {
   "cell_type": "code",
   "execution_count": 25,
   "id": "cb9044ab-3171-434c-85c5-6cd17132e2f7",
   "metadata": {},
   "outputs": [
    {
     "name": "stdin",
     "output_type": "stream",
     "text": [
      "enter a number 5\n"
     ]
    },
    {
     "name": "stdout",
     "output_type": "stream",
     "text": [
      "factorial of number 5 is : 120\n"
     ]
    }
   ],
   "source": [
    "#6Program to find the factorial of a number\n",
    "num=int(input(\"enter a number\"))\n",
    "fact=1\n",
    "for i in range(1,num+1):\n",
    "    fact=fact*i\n",
    "print(\"factorial of number\",num,\"is :\",fact)    \n",
    "\n"
   ]
  },
  {
   "cell_type": "code",
   "execution_count": 15,
   "id": "4ad1247c-325f-4375-8e10-a5aa4326be00",
   "metadata": {},
   "outputs": [
    {
     "name": "stdin",
     "output_type": "stream",
     "text": [
      "enter number of terms 6\n"
     ]
    },
    {
     "name": "stdout",
     "output_type": "stream",
     "text": [
      "fibonacci sequence:\n",
      "0 1 1 2 3 5 "
     ]
    }
   ],
   "source": [
    "#7. Generate Fibonacci series of N terms\n",
    "n=int(input(\"enter number of terms\"))\n",
    "a,b=0,1\n",
    "print(\"fibonacci sequence:\")\n",
    "for i in range(n):\n",
    "    print(a,end=\" \")\n",
    "    a,b=b,a+b"
   ]
  },
  {
   "cell_type": "code",
   "execution_count": 2,
   "id": "973db720-37b4-48ab-98f9-0340b333ed2b",
   "metadata": {},
   "outputs": [
    {
     "name": "stdin",
     "output_type": "stream",
     "text": [
      "enter numbers seprated by commas 4,6,3,6,23\n"
     ]
    },
    {
     "name": "stdout",
     "output_type": "stream",
     "text": [
      "The total of the numbers is:  42\n"
     ]
    }
   ],
   "source": [
    "#8Find the sum of all items in a list\n",
    "num=input(\"enter numbers seprated by commas\").split(\",\")\n",
    "num_1=list(map(int,num))\n",
    "total=sum(num_1)\n",
    "print(\"The total of the numbers is: \",total)"
   ]
  },
  {
   "cell_type": "code",
   "execution_count": 3,
   "id": "264f06a9-2a88-4de0-93c8-6f76984248a8",
   "metadata": {},
   "outputs": [
    {
     "name": "stdin",
     "output_type": "stream",
     "text": [
      "enter start of the range(4-digit number): 2000\n",
      "enter the ending of the range(4-digit number): 8000\n"
     ]
    },
    {
     "name": "stdout",
     "output_type": "stream",
     "text": [
      "Four digits numbers with their digits are all even and they are pefect numbers: [4624, 6084, 6400]\n"
     ]
    }
   ],
   "source": [
    "#.9list of four digit numbers in a given range with all their digits even and the number is perfect square\n",
    "import math\n",
    "start=int(input(\"enter start of the range(4-digit number):\"))\n",
    "end=int(input(\"enter the ending of the range(4-digit number):\"))\n",
    "result=[]\n",
    "\n",
    "for num in range(start,end+1):\n",
    "    if 1000 <= num <= 9999:\n",
    "        if all(int(d) % 2 ==0 for d in str(num)):\n",
    "            root = int(math.sqrt(num))\n",
    "            if root * root == num:\n",
    "                result.append(num)\n",
    "print(\"Four digits numbers with their digits are all even and they are pefect numbers:\",result)\n"
   ]
  },
  {
   "cell_type": "code",
   "execution_count": 6,
   "id": "33e3e61c-b79e-4891-b0ae-dfc2457c144a",
   "metadata": {},
   "outputs": [
    {
     "name": "stdin",
     "output_type": "stream",
     "text": [
      "Enter any text:  hello world\n"
     ]
    },
    {
     "name": "stdout",
     "output_type": "stream",
     "text": [
      "Frequency of characters : {'h': 1, 'e': 1, 'l': 3, 'o': 2, 'w': 1, 'r': 1, 'd': 1}\n"
     ]
    }
   ],
   "source": [
    "#10. Count the number of characters (character frequency) in a string.\n",
    "text = input(\"Enter any text: \")\n",
    "text_nospace = text.replace(\" \", \"\")\n",
    "freq = {}\n",
    "\n",
    "for char in text_nospace:\n",
    "    freq[char] = freq.get(char, 0) + 1\n",
    "\n",
    "print(\"Frequency of characters :\", freq)\n",
    "        "
   ]
  },
  {
   "cell_type": "code",
   "execution_count": 8,
   "id": "023a0493-e109-4080-a135-9855ec3a99e9",
   "metadata": {},
   "outputs": [
    {
     "name": "stdin",
     "output_type": "stream",
     "text": [
      "enter the number of steps 4\n"
     ]
    },
    {
     "name": "stdout",
     "output_type": "stream",
     "text": [
      "1 \n",
      "2 4 \n",
      "3 6 9 \n",
      "4 8 12 16 \n"
     ]
    }
   ],
   "source": [
    "# 11 Display the given pyramid with step number accepted from user.\n",
    "steps = int(input(\"enter the number of steps\"))\n",
    "for i in range(1,steps+1):\n",
    "    for j in range(1,i+1):\n",
    "        print(i * j,end=' ')\n",
    "    print()"
   ]
  },
  {
   "cell_type": "code",
   "execution_count": null,
   "id": "7d16af17-7496-441d-a707-63fccbbbadec",
   "metadata": {},
   "outputs": [],
   "source": []
  }
 ],
 "metadata": {
  "kernelspec": {
   "display_name": "Python [conda env:base] *",
   "language": "python",
   "name": "conda-base-py"
  },
  "language_info": {
   "codemirror_mode": {
    "name": "ipython",
    "version": 3
   },
   "file_extension": ".py",
   "mimetype": "text/x-python",
   "name": "python",
   "nbconvert_exporter": "python",
   "pygments_lexer": "ipython3",
   "version": "3.11.7"
  }
 },
 "nbformat": 4,
 "nbformat_minor": 5
}
