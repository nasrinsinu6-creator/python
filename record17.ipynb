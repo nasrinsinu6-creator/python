{
 "cells": [
  {
   "cell_type": "code",
   "execution_count": 1,
   "id": "af509d7f-d482-4fc3-b3c9-b63fb98916e6",
   "metadata": {},
   "outputs": [
    {
     "name": "stdin",
     "output_type": "stream",
     "text": [
      "Enter the publisher name: Sahva\n",
      "Enetr the title of book: ABC\n",
      "Enter the author name: Sinu\n",
      "Enter the number of pages: 500\n",
      "Enter the price of book: 250\n"
     ]
    },
    {
     "name": "stdout",
     "output_type": "stream",
     "text": [
      "Publisher info : Sahva\n",
      "Book title : ABC\n",
      "Author name: Sinu\n",
      "NO of pages 500\n",
      "Price of book 250\n"
     ]
    }
   ],
   "source": [
    "class publisher:\n",
    "    def __init__(self,name):\n",
    "        self.name=name\n",
    "        \n",
    "    def display(self):\n",
    "        print(\"Publisher info :\",self.name)\n",
    "\n",
    "class book(publisher):\n",
    "    def __init__(self,name,title,author):\n",
    "        super().__init__(name)\n",
    "        self.name=name\n",
    "        self.title=title\n",
    "        self.author=author\n",
    "        \n",
    "    def display(self):\n",
    "        super().display()\n",
    "        print(\"Book title :\",self.title)\n",
    "        print(\"Author name:\",self.author)\n",
    "\n",
    "class python(book):\n",
    "    def __init__(self,name,title,author,no_of_pages,price):\n",
    "        super().__init__(name,title,author)\n",
    "        self.name=name\n",
    "        self.title=title\n",
    "        self.author=author\n",
    "        self.no_of_pages=no_of_pages\n",
    "        self.price=price\n",
    "\n",
    "    def display(self):\n",
    "        super().display()\n",
    "        print(\"NO of pages\",self.no_of_pages)\n",
    "        print(\"Price of book\",self.price)\n",
    "\n",
    "pub=input(\"Enter the publisher name:\")\n",
    "title=input(\"Enetr the title of book:\")\n",
    "author=input(\"Enter the author name:\")\n",
    "pages=int(input(\"Enter the number of pages:\"))\n",
    "price=int(input(\"Enter the price of book:\"))\n",
    "\n",
    "p=python(pub,title,author,pages,price)\n",
    "p.display()\n",
    "        "
   ]
  },
  {
   "cell_type": "code",
   "execution_count": null,
   "id": "18733b43-88a1-485d-b417-aea950496fdc",
   "metadata": {},
   "outputs": [],
   "source": []
  },
  {
   "cell_type": "code",
   "execution_count": null,
   "id": "5b9e5162-2065-4166-a77f-c8c4d5e92b78",
   "metadata": {},
   "outputs": [],
   "source": []
  }
 ],
 "metadata": {
  "kernelspec": {
   "display_name": "Python [conda env:base] *",
   "language": "python",
   "name": "conda-base-py"
  },
  "language_info": {
   "codemirror_mode": {
    "name": "ipython",
    "version": 3
   },
   "file_extension": ".py",
   "mimetype": "text/x-python",
   "name": "python",
   "nbconvert_exporter": "python",
   "pygments_lexer": "ipython3",
   "version": "3.11.7"
  }
 },
 "nbformat": 4,
 "nbformat_minor": 5
}
