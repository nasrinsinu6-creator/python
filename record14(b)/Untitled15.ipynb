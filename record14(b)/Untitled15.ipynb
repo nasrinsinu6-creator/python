{
 "cells": [
  {
   "cell_type": "code",
   "execution_count": null,
   "id": "4d3457c9-1211-4197-9448-a0dffd6806b5",
   "metadata": {},
   "outputs": [
    {
     "name": "stdout",
     "output_type": "stream",
     "text": [
      "1.Rectangle\n",
      "2.Circle\n",
      "3.Cuboid\n",
      "4.Sphere\n",
      "5.Exit\n",
      "\n"
     ]
    },
    {
     "name": "stdin",
     "output_type": "stream",
     "text": [
      "Enter your choice: 4\n",
      "enter the radius of the sphere 3\n"
     ]
    },
    {
     "name": "stdout",
     "output_type": "stream",
     "text": [
      "Area of cuboid: 113.04\n",
      "Perimeter of cuboid: 18.84\n",
      "1.Rectangle\n",
      "2.Circle\n",
      "3.Cuboid\n",
      "4.Sphere\n",
      "5.Exit\n",
      "\n"
     ]
    }
   ],
   "source": [
    "from package2 import *\n",
    "from package2.graphics import *\n",
    "while(1):\n",
    "    print(\"1.Rectangle\\n2.Circle\\n3.Cuboid\\n4.Sphere\\n5.Exit\\n\")\n",
    "    n=int(input(\"Enter your choice:\"))\n",
    "    if n==1:\n",
    "        l=int(input(\"enter the length of the rectangle\"))\n",
    "        b=int(input(\"enter the bredth of the rectangle\"))\n",
    "        print(\"Area of rectangle:\",rectangle.area(l,b))\n",
    "        print(\"Perimeter of rectangle:\",rectangle.peri(l,b))\n",
    "    elif n==2:\n",
    "        r=int(input(\"enter the radius of the circle\"))\n",
    "        print(\"Area of circle:\",round(circle.area(r),2))\n",
    "        print(\"Perimeter of circle:\",round(circle.peri(r),2))\n",
    "    elif n==3:\n",
    "        l=int(input(\"enter the length of the cuboid\"))\n",
    "        b=int(input(\"enter the bredth of the cuboid\"))       \n",
    "        h=int(input(\"enter the heigth of the cuboid\"))\n",
    "        print(\"Area of cuboid:\",cuboid.area(l,b,h))\n",
    "        print(\"Perimeter of cuboid:\",cuboid.peri(l,b,h))\n",
    "    elif n==4:\n",
    "        r=int(input(\"enter the radius of the sphere\"))\n",
    "        print(\"Area of cuboid:\",round(sphere.area(r),2))\n",
    "        print(\"Perimeter of cuboid:\",round(sphere.peri(r),2))\n",
    "    else:\n",
    "        print(\"exiting\")\n",
    "        break\n",
    "\n",
    "\n",
    "\n"
   ]
  },
  {
   "cell_type": "code",
   "execution_count": null,
   "id": "c3728a0d-6f55-41fb-9217-2ad3e294977c",
   "metadata": {},
   "outputs": [],
   "source": []
  }
 ],
 "metadata": {
  "kernelspec": {
   "display_name": "Python [conda env:base] *",
   "language": "python",
   "name": "conda-base-py"
  },
  "language_info": {
   "codemirror_mode": {
    "name": "ipython",
    "version": 3
   },
   "file_extension": ".py",
   "mimetype": "text/x-python",
   "name": "python",
   "nbconvert_exporter": "python",
   "pygments_lexer": "ipython3",
   "version": "3.11.7"
  }
 },
 "nbformat": 4,
 "nbformat_minor": 5
}
