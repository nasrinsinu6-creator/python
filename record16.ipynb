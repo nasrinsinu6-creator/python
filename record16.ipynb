{
 "cells": [
  {
   "cell_type": "code",
   "execution_count": null,
   "id": "12f3c2dc-5213-453d-ba63-f6b6ebdd0ced",
   "metadata": {},
   "outputs": [
    {
     "name": "stdin",
     "output_type": "stream",
     "text": [
      "Enter account number:  101\n",
      "Enter name:  sinu\n",
      "Enter account type ( savings or current):  savings\n",
      "Enter current balance:  100000\n"
     ]
    },
    {
     "name": "stdout",
     "output_type": "stream",
     "text": [
      "\n",
      "1. Deposit\n",
      "2. Withdraw\n",
      "3. Display\n",
      "4. Exit\n"
     ]
    },
    {
     "name": "stdin",
     "output_type": "stream",
     "text": [
      "Enter your choice:  3\n"
     ]
    },
    {
     "name": "stdout",
     "output_type": "stream",
     "text": [
      "Account Number:  101\n",
      "Name:  sinu\n",
      "Account Type: savings\n",
      "Balance:  100000.0\n",
      "\n",
      "1. Deposit\n",
      "2. Withdraw\n",
      "3. Display\n",
      "4. Exit\n"
     ]
    },
    {
     "name": "stdin",
     "output_type": "stream",
     "text": [
      "Enter your choice:  2\n",
      "Enter amount to withdraw:  100020\n"
     ]
    },
    {
     "name": "stdout",
     "output_type": "stream",
     "text": [
      " Insufficient balance\n",
      "\n",
      "1. Deposit\n",
      "2. Withdraw\n",
      "3. Display\n",
      "4. Exit\n"
     ]
    }
   ],
   "source": [
    "class Bank:\n",
    "    def __init__(self, accnt_number, name, accnt_type, balance):\n",
    "        self.accnt_number = accnt_number\n",
    "        self.name = name\n",
    "        self.accnt_type = accnt_type\n",
    "        self.balance = balance\n",
    "\n",
    "    def deposit(self, amount):\n",
    "        self.balance += amount\n",
    "        print(\"Successfully deposited\")\n",
    "        \n",
    "\n",
    "    def withdraw(self, amount):\n",
    "        if amount > self.balance:\n",
    "            print(\" Insufficient balance\")\n",
    "        else:\n",
    "            self.balance -= amount\n",
    "            print(\"Amount withdrawn successfully\")\n",
    "\n",
    "    def display(self):\n",
    "        print(\"Account Number: \",self.accnt_number)\n",
    "        print(\"Name: \",self.name)\n",
    "        print(\"Account Type:\",self.accnt_type)\n",
    "        print(\"Balance: \",self.balance)\n",
    "\n",
    "\n",
    "accnt_number = int(input(\"Enter account number: \"))\n",
    "name = input(\"Enter name: \")\n",
    "accnt_type = input(\"Enter account type ( savings or current): \")\n",
    "balance = float(input(\"Enter current balance: \"))\n",
    "\n",
    "acc = Bank(accnt_number, name, accnt_type, balance)\n",
    "\n",
    "while (1):\n",
    "    print(\"\\n1. Deposit\\n2. Withdraw\\n3. Display\\n4. Exit\")\n",
    "    ch = input(\"Enter your choice: \")\n",
    "\n",
    "    if ch == \"1\":\n",
    "        amt = float(input(\"Enter amount to deposit: \"))\n",
    "        acc.deposit(amt)\n",
    "    elif ch == \"2\":\n",
    "        amt = float(input(\"Enter amount to withdraw: \"))\n",
    "        acc.withdraw(amt)\n",
    "    elif ch == \"3\":\n",
    "        acc.display()\n",
    "   \n",
    "    else:\n",
    "        print(\" Exiting\")\n",
    "        break\n"
   ]
  },
  {
   "cell_type": "code",
   "execution_count": null,
   "id": "2e406e70-8e24-4aaf-9711-8c5c4ea9e73d",
   "metadata": {},
   "outputs": [],
   "source": []
  }
 ],
 "metadata": {
  "kernelspec": {
   "display_name": "Python [conda env:base] *",
   "language": "python",
   "name": "conda-base-py"
  },
  "language_info": {
   "codemirror_mode": {
    "name": "ipython",
    "version": 3
   },
   "file_extension": ".py",
   "mimetype": "text/x-python",
   "name": "python",
   "nbconvert_exporter": "python",
   "pygments_lexer": "ipython3",
   "version": "3.11.7"
  }
 },
 "nbformat": 4,
 "nbformat_minor": 5
}
