{
 "cells": [
  {
   "cell_type": "code",
   "execution_count": 1,
   "id": "2f2f8e7b-5ac4-4b3a-8d4e-00c390aecfd5",
   "metadata": {},
   "outputs": [
    {
     "name": "stdin",
     "output_type": "stream",
     "text": [
      "enter celsious in temparature 40\n"
     ]
    },
    {
     "name": "stdout",
     "output_type": "stream",
     "text": [
      "Farenheit = 104.0\n"
     ]
    }
   ],
   "source": [
    "#convert celsiuos to farenheit\n",
    "\n",
    "celsius=float(input(\"enter celsious in temparature\"))\n",
    "farenheit=celsius * 9/5 + 32\n",
    "print(\"Farenheit =\",farenheit)"
   ]
  },
  {
   "cell_type": "code",
   "execution_count": 5,
   "id": "ca3d72fc-afcd-46fb-883b-9431bb7dd21e",
   "metadata": {},
   "outputs": [
    {
     "name": "stdin",
     "output_type": "stream",
     "text": [
      "enter kilometer 200\n"
     ]
    },
    {
     "name": "stdout",
     "output_type": "stream",
     "text": [
      "Miles = 124.274\n"
     ]
    }
   ],
   "source": [
    "#convert kilometers to meters\n",
    "\n",
    "kilometers = float(input(\"enter kilometer\"))\n",
    "miles = kilometers * 0.62137\n",
    "print(\"Miles =\",miles)"
   ]
  },
  {
   "cell_type": "code",
   "execution_count": null,
   "id": "6e543798-8167-4ecd-82df-0a2888e471d3",
   "metadata": {},
   "outputs": [],
   "source": []
  }
 ],
 "metadata": {
  "kernelspec": {
   "display_name": "Python [conda env:base] *",
   "language": "python",
   "name": "conda-base-py"
  },
  "language_info": {
   "codemirror_mode": {
    "name": "ipython",
    "version": 3
   },
   "file_extension": ".py",
   "mimetype": "text/x-python",
   "name": "python",
   "nbconvert_exporter": "python",
   "pygments_lexer": "ipython3",
   "version": "3.11.7"
  }
 },
 "nbformat": 4,
 "nbformat_minor": 5
}
