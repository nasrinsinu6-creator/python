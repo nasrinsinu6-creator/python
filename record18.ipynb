{
 "cells": [
  {
   "cell_type": "code",
   "execution_count": 15,
   "id": "09e637ab-9791-447c-a57d-157eec880103",
   "metadata": {},
   "outputs": [
    {
     "name": "stdin",
     "output_type": "stream",
     "text": [
      "Enter length of rectangle 1:  2\n",
      "Enter width of rectangle 1:  3\n",
      "Enter length of rectangle 2:  4\n",
      "Enter width of rectangle 2:  5\n"
     ]
    },
    {
     "name": "stdout",
     "output_type": "stream",
     "text": [
      "Rectangle 2 is greater\n"
     ]
    }
   ],
   "source": [
    "#rectangole\n",
    "class Rectangle:\n",
    "    def __init__(self, l, w):\n",
    "         self.length = l\n",
    "         self.width = w\n",
    "         self.area = l * w\n",
    "\n",
    "    def __lt__(self, other): \n",
    "        if self.area < other.area:\n",
    "            print(\"Rectangle 2 is greater\")\n",
    "        else:\n",
    "            print(\"Rectangle 1 is greater\")\n",
    "l1 = int(input(\"Enter length of rectangle 1: \"))\n",
    "w1 = int(input(\"Enter width of rectangle 1: \"))\n",
    "l2 = int(input(\"Enter length of rectangle 2: \"))\n",
    "w2 = int(input(\"Enter width of rectangle 2: \"))\n",
    "\n",
    "\n",
    "r1 = Rectangle(l1, w1)\n",
    "r2 = Rectangle(l2,w2)\n",
    "r1<r2\n",
    "\n",
    "\n",
    "\n",
    "\n"
   ]
  },
  {
   "cell_type": "code",
   "execution_count": 25,
   "id": "7978e57b-578f-4d67-9b76-502b030b3ac6",
   "metadata": {},
   "outputs": [
    {
     "name": "stdin",
     "output_type": "stream",
     "text": [
      "enter the hour: 4\n",
      "enter the minute: 5\n",
      "enter the second: 3\n",
      "enter the hour: 3\n",
      "enter the minute: 5\n",
      "enter the second: 1\n"
     ]
    },
    {
     "name": "stdout",
     "output_type": "stream",
     "text": [
      "Added time:\n",
      "Hour: 7 Minute: 10 Second: 4\n"
     ]
    }
   ],
   "source": [
    "#time overloading\n",
    "class time:\n",
    "    def __init__(self,hr,mini,sec):\n",
    "        self.__hr=hr\n",
    "        self.__mini=mini\n",
    "        self.__sec=sec\n",
    "    def __add__(self,other):\n",
    "        ss=self.__sec+other.__sec\n",
    "        mm=self.__mini+other.__mini\n",
    "        hh=self.__hr+other.__hr\n",
    "\n",
    "        if ss>=60:\n",
    "            ss=ss%60\n",
    "            mm=mm+1\n",
    "\n",
    "        if mm>=60:\n",
    "            mm=mm%60\n",
    "            hh=hh+1\n",
    "            \n",
    "        print(\"Added time:\")\n",
    "        print(\"Hour:\",hh,\"Minute:\",mm,\"Second:\",ss)\n",
    "        \n",
    "hr1=int(input(\"enter the hour:\"))\n",
    "mini1=int(input(\"enter the minute:\"))\n",
    "sec1=int(input(\"enter the second:\"))\n",
    "\n",
    "hr2=int(input(\"enter the hour:\"))\n",
    "mini2=int(input(\"enter the minute:\"))\n",
    "sec2=int(input(\"enter the second:\"))\n",
    "\n",
    "t1=time(hr1,mini1,sec1)\n",
    "t2=time(hr2,mini2,sec2)\n",
    "t3=t1+t2\n"
   ]
  },
  {
   "cell_type": "code",
   "execution_count": null,
   "id": "8657f404-fab3-4a96-9085-768c76512236",
   "metadata": {},
   "outputs": [],
   "source": []
  }
 ],
 "metadata": {
  "kernelspec": {
   "display_name": "Python [conda env:base] *",
   "language": "python",
   "name": "conda-base-py"
  },
  "language_info": {
   "codemirror_mode": {
    "name": "ipython",
    "version": 3
   },
   "file_extension": ".py",
   "mimetype": "text/x-python",
   "name": "python",
   "nbconvert_exporter": "python",
   "pygments_lexer": "ipython3",
   "version": "3.11.7"
  }
 },
 "nbformat": 4,
 "nbformat_minor": 5
}
