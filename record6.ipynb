{
 "cells": [
  {
   "cell_type": "code",
   "execution_count": 13,
   "id": "c9ce8041-bc6a-4dc6-b774-6dfac491f0f8",
   "metadata": {},
   "outputs": [
    {
     "name": "stdin",
     "output_type": "stream",
     "text": [
      "enter 8 numbers 3,5,5,8,1,2,9,4\n"
     ]
    },
    {
     "name": "stdout",
     "output_type": "stream",
     "text": [
      "first third is : 5\n",
      "last third is: 2\n"
     ]
    }
   ],
   "source": [
    "#get 3rd and last 3rd element\n",
    "num1=input(\"enter  numbers\")\n",
    "num=tuple(map(int,num1.split(\",\")))\n",
    "third=num[2]\n",
    "l_third=num[-3]\n",
    "print(\"first third is :\",third)\n",
    "print(\"last third is:\",l_third)"
   ]
  },
  {
   "cell_type": "code",
   "execution_count": 10,
   "id": "2cc82794-6839-4980-9efd-e051eb32fde9",
   "metadata": {},
   "outputs": [
    {
     "name": "stdin",
     "output_type": "stream",
     "text": [
      "enetr 5 numbers 1,2,3,4,5\n"
     ]
    },
    {
     "name": "stdout",
     "output_type": "stream",
     "text": [
      "tuple is: (1, 2, 3, 4, 5)\n",
      "sum is: 15\n"
     ]
    }
   ],
   "source": [
    "#accet numbers from user and find sum of all elemnts \n",
    "num1=input(\"enetr 5 numbers\")\n",
    "num=tuple(map(int,num1.split(\",\")))\n",
    "total=sum(num)\n",
    "print(\"tuple is:\",num)\n",
    "print(\"sum is:\",total)"
   ]
  },
  {
   "cell_type": "code",
   "execution_count": null,
   "id": "cd1792bc-1476-4774-84c6-c506030eb837",
   "metadata": {},
   "outputs": [],
   "source": []
  }
 ],
 "metadata": {
  "kernelspec": {
   "display_name": "Python [conda env:base] *",
   "language": "python",
   "name": "conda-base-py"
  },
  "language_info": {
   "codemirror_mode": {
    "name": "ipython",
    "version": 3
   },
   "file_extension": ".py",
   "mimetype": "text/x-python",
   "name": "python",
   "nbconvert_exporter": "python",
   "pygments_lexer": "ipython3",
   "version": "3.11.7"
  }
 },
 "nbformat": 4,
 "nbformat_minor": 5
}
