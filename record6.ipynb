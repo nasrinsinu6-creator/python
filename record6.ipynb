{
 "cells": [
  {
   "cell_type": "code",
   "execution_count": 13,
   "id": "c9ce8041-bc6a-4dc6-b774-6dfac491f0f8",
   "metadata": {},
   "outputs": [
    {
     "name": "stdin",
     "output_type": "stream",
     "text": [
      "enter 8 numbers 3,5,5,8,1,2,9,4\n"
     ]
    },
    {
     "name": "stdout",
     "output_type": "stream",
     "text": [
      "first third is : 5\n",
      "last third is: 2\n"
     ]
    }
   ],
   "source": [
    "#get 3rd and last 3rd element\n",
    "num1=input(\"enter  numbers\")\n",
    "num=tuple(map(int,num1.split(\",\")))\n",
    "third=num[2]\n",
    "l_third=num[-3]\n",
    "print(\"tuple is:\",nu\n",
    "print(\"first third is :\",third)\n",
    "print(\"last third is:\",l_third)"
   ]
  },
  {
   "cell_type": "code",
   "execution_count": 3,
   "id": "2cc82794-6839-4980-9efd-e051eb32fde9",
   "metadata": {},
   "outputs": [
    {
     "name": "stdin",
     "output_type": "stream",
     "text": [
      "enetr  numbers 4,6,5,7,8\n"
     ]
    },
    {
     "name": "stdout",
     "output_type": "stream",
     "text": [
      "tuple is: (4, 6, 5, 7, 8)\n",
      "avg is: 6.0\n"
     ]
    }
   ],
   "source": [
    "#accet numbers from user and find avg of all elemnts \n",
    "num1=input(\"enter  numbers\")\n",
    "num=tuple(map(int,num1.split(\",\")))\n",
    "total=sum(num)\n",
    "leng=len(num)\n",
    "avg=total / leng\n",
    "print(\"tuple is:\",num)\n",
    "print(\"avg is:\",avg)"
   ]
  },
  {
   "cell_type": "code",
   "execution_count": null,
   "id": "cd1792bc-1476-4774-84c6-c506030eb837",
   "metadata": {},
   "outputs": [],
   "source": []
  }
 ],
 "metadata": {
  "kernelspec": {
   "display_name": "Python [conda env:base] *",
   "language": "python",
   "name": "conda-base-py"
  },
  "language_info": {
   "codemirror_mode": {
    "name": "ipython",
    "version": 3
   },
   "file_extension": ".py",
   "mimetype": "text/x-python",
   "name": "python",
   "nbconvert_exporter": "python",
   "pygments_lexer": "ipython3",
   "version": "3.11.7"
  }
 },
 "nbformat": 4,
 "nbformat_minor": 5
}
