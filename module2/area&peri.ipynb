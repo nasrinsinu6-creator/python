{
 "cells": [
  {
   "cell_type": "code",
   "execution_count": 8,
   "id": "bb96e694-a19f-4962-ba1a-da8dfad3fc24",
   "metadata": {},
   "outputs": [
    {
     "name": "stdout",
     "output_type": "stream",
     "text": [
      "1.Rectangle\n",
      "2.Circle\n",
      "3.Exit\n",
      "\n"
     ]
    },
    {
     "name": "stdin",
     "output_type": "stream",
     "text": [
      "Enter your option 1\n",
      "enter the length of the rectangle: 2\n",
      "enter the bredth of the rectangle: 3\n"
     ]
    },
    {
     "name": "stdout",
     "output_type": "stream",
     "text": [
      "Area of the rectangle is: 6\n",
      "Perimeter of the rectangle is: 10\n",
      "1.Rectangle\n",
      "2.Circle\n",
      "3.Exit\n",
      "\n"
     ]
    },
    {
     "name": "stdin",
     "output_type": "stream",
     "text": [
      "Enter your option 2\n",
      "enter the radius of the circle: 3\n"
     ]
    },
    {
     "name": "stdout",
     "output_type": "stream",
     "text": [
      "Area of circle: 28.27\n",
      "Perimeter of the circle: 18.85\n",
      "1.Rectangle\n",
      "2.Circle\n",
      "3.Exit\n",
      "\n"
     ]
    },
    {
     "name": "stdin",
     "output_type": "stream",
     "text": [
      "Enter your option 3\n"
     ]
    },
    {
     "name": "stdout",
     "output_type": "stream",
     "text": [
      "Exiting\n"
     ]
    }
   ],
   "source": [
    "import circle\n",
    "import rectangle\n",
    "while(1):\n",
    "    print(\"1.Rectangle\\n2.Circle\\n3.Exit\\n\")\n",
    "    n=int(input(\"Enter your option\"))\n",
    "    if n==1:\n",
    "        l=int(input(\"enter the length of the rectangle:\"))\n",
    "        b=int(input(\"enter the bredth of the rectangle:\"))\n",
    "        print(\"Area of the rectangle is:\",round(rectangle.area(l,b),2))\n",
    "        print(\"Perimeter of the rectangle is:\",round(rectangle.peri(l,b),2))\n",
    "    elif n==2:\n",
    "        r=int(input(\"enter the radius of the circle:\"))\n",
    "        print(\"Area of circle:\",round(circle.area(r),2))\n",
    "        print(\"Perimeter of the circle:\",round(circle.peri(r),2))\n",
    "    else: \n",
    "        print(\"Exiting\")\n",
    "        break\n",
    " "
   ]
  },
  {
   "cell_type": "code",
   "execution_count": null,
   "id": "a4018157-f88f-452e-8587-7dd5a73e39bb",
   "metadata": {},
   "outputs": [],
   "source": []
  }
 ],
 "metadata": {
  "kernelspec": {
   "display_name": "Python [conda env:base] *",
   "language": "python",
   "name": "conda-base-py"
  },
  "language_info": {
   "codemirror_mode": {
    "name": "ipython",
    "version": 3
   },
   "file_extension": ".py",
   "mimetype": "text/x-python",
   "name": "python",
   "nbconvert_exporter": "python",
   "pygments_lexer": "ipython3",
   "version": "3.11.7"
  }
 },
 "nbformat": 4,
 "nbformat_minor": 5
}
