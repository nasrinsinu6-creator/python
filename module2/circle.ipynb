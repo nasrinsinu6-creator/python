{
 "cells": [
  {
   "cell_type": "code",
   "execution_count": 1,
   "id": "a507efe0-5ddd-4279-b4c9-a5f44be1e737",
   "metadata": {},
   "outputs": [],
   "source": [
    "import math\n",
    "def area(r):\n",
    "    return math.pi*r*r\n",
    "def peri(r):\n",
    "    return 2*math.pi*r"
   ]
  },
  {
   "cell_type": "code",
   "execution_count": 2,
   "id": "0d76b987-97c9-4f33-bafd-b5cdd1e855ef",
   "metadata": {},
   "outputs": [
    {
     "name": "stdout",
     "output_type": "stream",
     "text": [
      "[NbConvertApp] Converting notebook circle.ipynb to python\n",
      "[NbConvertApp] Writing 135 bytes to circle.py\n"
     ]
    }
   ],
   "source": [
    "!jupyter nbconvert --to python circle.ipynb"
   ]
  },
  {
   "cell_type": "code",
   "execution_count": null,
   "id": "4cd28d21-a893-41a2-8b77-5bdc3fc17b88",
   "metadata": {},
   "outputs": [],
   "source": []
  }
 ],
 "metadata": {
  "kernelspec": {
   "display_name": "Python [conda env:base] *",
   "language": "python",
   "name": "conda-base-py"
  },
  "language_info": {
   "codemirror_mode": {
    "name": "ipython",
    "version": 3
   },
   "file_extension": ".py",
   "mimetype": "text/x-python",
   "name": "python",
   "nbconvert_exporter": "python",
   "pygments_lexer": "ipython3",
   "version": "3.11.7"
  }
 },
 "nbformat": 4,
 "nbformat_minor": 5
}
