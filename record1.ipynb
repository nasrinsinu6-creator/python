{
 "cells": [
  {
   "cell_type": "code",
   "execution_count": 9,
   "id": "8c93e1d5-a80d-4609-9fb0-b65db7540872",
   "metadata": {},
   "outputs": [
    {
     "name": "stdin",
     "output_type": "stream",
     "text": [
      "enter a number 5\n"
     ]
    },
    {
     "name": "stdout",
     "output_type": "stream",
     "text": [
      "5 + 55 + 555 = 615\n"
     ]
    }
   ],
   "source": [
    "#write a program that accepts integer and compute n+nn+nnn.\n",
    "n=int(input(\"enter a number\"))\n",
    "nn=(n * 10)+n\n",
    "nnn=(n * 100)+nn\n",
    "\n",
    "result=(n)+(nn)+(nnn)\n",
    "print(n ,\"+\" ,nn, \"+\" ,nnn,\"=\",result)"
   ]
  },
  {
   "cell_type": "code",
   "execution_count": 10,
   "id": "5044980d-c02b-43aa-bdd0-7882b4ede1e0",
   "metadata": {},
   "outputs": [
    {
     "name": "stdin",
     "output_type": "stream",
     "text": [
      "enter radius 3\n"
     ]
    },
    {
     "name": "stdout",
     "output_type": "stream",
     "text": [
      "Area= 28.27\n"
     ]
    }
   ],
   "source": [
    "#area of circle\n",
    "import math\n",
    "radius=float(input(\"enter radius\"))\n",
    "area =math.pi*radius*radius\n",
    "round_area= round(area,2)\n",
    "print(\"Area=\",round_area)"
   ]
  },
  {
   "cell_type": "code",
   "execution_count": null,
   "id": "79f06f08-6017-4bfe-9b60-94685cb3c567",
   "metadata": {},
   "outputs": [],
   "source": []
  }
 ],
 "metadata": {
  "kernelspec": {
   "display_name": "Python [conda env:base] *",
   "language": "python",
   "name": "conda-base-py"
  },
  "language_info": {
   "codemirror_mode": {
    "name": "ipython",
    "version": 3
   },
   "file_extension": ".py",
   "mimetype": "text/x-python",
   "name": "python",
   "nbconvert_exporter": "python",
   "pygments_lexer": "ipython3",
   "version": "3.11.7"
  }
 },
 "nbformat": 4,
 "nbformat_minor": 5
}
