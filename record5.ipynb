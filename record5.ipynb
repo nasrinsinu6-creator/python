{
 "cells": [
  {
   "cell_type": "code",
   "execution_count": 1,
   "id": "ba6f26e6-d5c0-4685-bf32-d43eaf9442f0",
   "metadata": {},
   "outputs": [
    {
     "name": "stdin",
     "output_type": "stream",
     "text": [
      "enter 5 numbers 2 4 5 2 1\n"
     ]
    },
    {
     "name": "stdout",
     "output_type": "stream",
     "text": [
      "list is: [2, 4, 5, 2, 1]\n",
      "sum is: 14\n"
     ]
    }
   ],
   "source": [
    "#accept a sequence of comma_separated numbers and list those and find sum\n",
    "num=input(\"enter 5 numbers\")\n",
    "new=list(map(int,num.split()))\n",
    "total=sum(new)\n",
    "print(\"list is:\",new)\n",
    "print(\"sum is:\",total)\n"
   ]
  },
  {
   "cell_type": "code",
   "execution_count": 2,
   "id": "65668dba-d1da-49aa-b2c9-c6bbe1003d0a",
   "metadata": {},
   "outputs": [
    {
     "name": "stdin",
     "output_type": "stream",
     "text": [
      "enter 5 colors red,blue,yellow,orange,green\n"
     ]
    },
    {
     "name": "stdout",
     "output_type": "stream",
     "text": [
      "first color: red last color: green\n"
     ]
    }
   ],
   "source": [
    "#create list of colors and print first and last colors\n",
    "colors=input(\"enter 5 colors\")\n",
    "list=colors.split(\",\")\n",
    "print(\"first color:\",list[0],\"last color:\",list[-1])"
   ]
  },
  {
   "cell_type": "code",
   "execution_count": 5,
   "id": "bed24465-a147-4eeb-931b-5578917204cc",
   "metadata": {},
   "outputs": [
    {
     "name": "stdin",
     "output_type": "stream",
     "text": [
      "enter the file name: kk.html\n"
     ]
    },
    {
     "name": "stdout",
     "output_type": "stream",
     "text": [
      "File extension is: html\n"
     ]
    }
   ],
   "source": [
    "#accept filename and print extension\n",
    "filename=input(\"enter the file name:\")\n",
    "extension=filename.split(\".\")[-1]\n",
    "print(\"File extension is:\",extension)"
   ]
  },
  {
   "cell_type": "code",
   "execution_count": null,
   "id": "f5f0f84d-555b-4223-a7bd-240196ef1fbb",
   "metadata": {},
   "outputs": [],
   "source": []
  }
 ],
 "metadata": {
  "kernelspec": {
   "display_name": "Python [conda env:base] *",
   "language": "python",
   "name": "conda-base-py"
  },
  "language_info": {
   "codemirror_mode": {
    "name": "ipython",
    "version": 3
   },
   "file_extension": ".py",
   "mimetype": "text/x-python",
   "name": "python",
   "nbconvert_exporter": "python",
   "pygments_lexer": "ipython3",
   "version": "3.11.7"
  }
 },
 "nbformat": 4,
 "nbformat_minor": 5
}
