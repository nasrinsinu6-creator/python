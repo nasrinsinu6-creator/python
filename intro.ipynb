
{
 "cells": [
  {
   "cell_type": "code",
   "execution_count": 1,
   "id": "1457d6b5-bc25-404f-b9cd-72223f769e82",
   "metadata": {},
   "outputs": [
    {
     "name": "stdout",
     "output_type": "stream",
     "text": [
      "Good Morning\n"
     ]
    }
   ],
   "source": [
    "print(\"Good Morning\")"
   ]
  },
  {
   "cell_type": "code",
   "execution_count": 4,
   "id": "11fd9084-90ac-46a6-8eb6-d7d64f0d3895",
   "metadata": {},
   "outputs": [
    {
     "name": "stdout",
     "output_type": "stream",
     "text": [
      "\n",
      " puthukkudi(h) karanthur(po) kozhikode\n",
      "\n"
     ]
    }
   ],
   "source": [
    "print(\"\\n puthukkudi(h) karanthur(po) kozhikode\\n\")"
   ]
  },
  {
   "cell_type": "code",
   "execution_count": 5,
   "id": "940acbee-5584-4f44-b613-73b4e208e0b2",
   "metadata": {},
   "outputs": [
    {
     "name": "stdout",
     "output_type": "stream",
     "text": [
      "\n",
      " puthukkudi(h) \n",
      " karanthur(po) \n",
      " kozhikode\n",
      "\n"
     ]
    }
   ],
   "source": [
    "print(\"\\n puthukkudi(h) \\n karanthur(po) \\n kozhikode\\n\")"
   ]
  },
  {
   "cell_type": "code",
   "execution_count": 6,
   "id": "3c73873a-8021-4679-8dcb-425a2aef7d75",
   "metadata": {},
   "outputs": [
    {
     "name": "stdout",
     "output_type": "stream",
     "text": [
      "2.5\n"
     ]
    }
   ],
   "source": [
    "print(5/2)"
   ]
  },
  {
   "cell_type": "code",
   "execution_count": 7,
   "id": "90685662-988d-4cd6-b8d0-400ef829c400",
   "metadata": {},
   "outputs": [
    {
     "name": "stdout",
     "output_type": "stream",
     "text": [
      "2\n"
     ]
    }
   ],
   "source": [
    "print(5//2)"
   ]
  },
  {
   "cell_type": "code",
   "execution_count": 8,
   "id": "f5f00cd4-2521-4e05-945a-09d1e3754919",
   "metadata": {},
   "outputs": [
    {
     "name": "stdout",
     "output_type": "stream",
     "text": [
      "8\n"
     ]
    }
   ],
   "source": [
    "print(2*2*2)\n"
   ]
  },
  {
   "cell_type": "code",
   "execution_count": 9,
   "id": "50ac7805-fc05-43c1-8256-6b2ed830ee8b",
   "metadata": {},
   "outputs": [
    {
     "name": "stdout",
     "output_type": "stream",
     "text": [
      "8\n"
     ]
    }
   ],
   "source": [
    "print(2**3)"
   ]
  },
  {
   "cell_type": "code",
   "execution_count": 10,
   "id": "3ed29d12-7376-4e7c-b8db-1716776b2748",
   "metadata": {},
   "outputs": [
    {
     "name": "stdout",
     "output_type": "stream",
     "text": [
      "MCA Students\n"
     ]
    }
   ],
   "source": [
    "print(\"MCA Students\")"
   ]
  },
  {
   "cell_type": "code",
   "execution_count": 12,
   "id": "9330a183-c99a-4f70-84e3-9c15c22a9edf",
   "metadata": {},
   "outputs": [
    {
     "name": "stdout",
     "output_type": "stream",
     "text": [
      "MCA's Students\n"
     ]
    }
   ],
   "source": [
    "print(\"MCA's Students\")"
   ]
  },
  {
   "cell_type": "code",
   "execution_count": 19,
   "id": "ead83698-9a72-40e2-adc0-8941130aeef7",
   "metadata": {},
   "outputs": [
    {
     "name": "stdout",
     "output_type": "stream",
     "text": [
      "MCA's Students\n"
     ]
    }
   ],
   "source": [
    "print(\"MCA's \" \"Students\")"
   ]
  },
  {
   "cell_type": "code",
   "execution_count": 35,
   "id": "8db0e4fa-efcf-46b4-8970-92874ae1c469",
   "metadata": {},
   "outputs": [
    {
     "name": "stdout",
     "output_type": "stream",
     "text": [
      "name = arjun\n"
     ]
    }
   ],
   "source": [
    "n=\"arjun\"\n",
    "print(\"name =\",n[0:])"
   ]
  },
  {
   "cell_type": "code",
   "execution_count": null,
   "id": "e305559a-ff47-45bc-8cb2-ba50580c7472",
   "metadata": {},
   "outputs": [],
   "source": []
  }
 ],
 "metadata": {
  "kernelspec": {
   "display_name": "Python [conda env:base] *",
   "language": "python",
   "name": "conda-base-py"
  },
  "language_info": {
   "codemirror_mode": {
    "name": "ipython",
    "version": 3
   },
   "file_extension": ".py",
   "mimetype": "text/x-python",
   "name": "python",
   "nbconvert_exporter": "python",
   "pygments_lexer": "ipython3",
   "version": "3.11.7"
  }
 },
 "nbformat": 4,
 "nbformat_minor": 5
}
